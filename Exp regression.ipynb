{
 "cells": [
  {
   "cell_type": "code",
   "execution_count": 2,
   "metadata": {},
   "outputs": [],
   "source": [
    "%matplotlib inline\n",
    "from sklearn.linear_model import LinearRegression\n",
    "import pprint\n",
    "import datetime\n",
    "import matplotlib.pyplot as plt\n",
    "import numpy as np\n",
    "import pandas as pd\n",
    "from scipy import stats\n",
    "from scipy.optimize import curve_fit\n",
    "from numpy import arange"
   ]
  },
  {
   "cell_type": "code",
   "execution_count": 3,
   "metadata": {},
   "outputs": [],
   "source": [
    "df1 = pd.read_csv ('Resources/HistoricalEsportData.csv')\n",
    "\n",
    "#print(df1)"
   ]
  },
  {
   "cell_type": "code",
   "execution_count": 4,
   "metadata": {},
   "outputs": [],
   "source": [
    "df1 = df1[df1['Earnings'] > 0.0]\n",
    "\n",
    "#df1"
   ]
  },
  {
   "cell_type": "code",
   "execution_count": 5,
   "metadata": {},
   "outputs": [
    {
     "data": {
      "text/html": [
       "<div>\n",
       "<style scoped>\n",
       "    .dataframe tbody tr th:only-of-type {\n",
       "        vertical-align: middle;\n",
       "    }\n",
       "\n",
       "    .dataframe tbody tr th {\n",
       "        vertical-align: top;\n",
       "    }\n",
       "\n",
       "    .dataframe thead th {\n",
       "        text-align: right;\n",
       "    }\n",
       "</style>\n",
       "<table border=\"1\" class=\"dataframe\">\n",
       "  <thead>\n",
       "    <tr style=\"text-align: right;\">\n",
       "      <th></th>\n",
       "      <th>Date</th>\n",
       "      <th>Game</th>\n",
       "      <th>Earnings</th>\n",
       "      <th>Players</th>\n",
       "      <th>Tournaments</th>\n",
       "    </tr>\n",
       "  </thead>\n",
       "  <tbody>\n",
       "    <tr>\n",
       "      <th>0</th>\n",
       "      <td>1998</td>\n",
       "      <td>QuakeWorld</td>\n",
       "      <td>15000.00</td>\n",
       "      <td>8</td>\n",
       "      <td>1</td>\n",
       "    </tr>\n",
       "    <tr>\n",
       "      <th>1</th>\n",
       "      <td>1998</td>\n",
       "      <td>Quake II</td>\n",
       "      <td>14600.00</td>\n",
       "      <td>4</td>\n",
       "      <td>1</td>\n",
       "    </tr>\n",
       "    <tr>\n",
       "      <th>2</th>\n",
       "      <td>1998</td>\n",
       "      <td>Quake II</td>\n",
       "      <td>15000.00</td>\n",
       "      <td>5</td>\n",
       "      <td>1</td>\n",
       "    </tr>\n",
       "    <tr>\n",
       "      <th>3</th>\n",
       "      <td>1998</td>\n",
       "      <td>QuakeWorld</td>\n",
       "      <td>6500.00</td>\n",
       "      <td>4</td>\n",
       "      <td>1</td>\n",
       "    </tr>\n",
       "    <tr>\n",
       "      <th>4</th>\n",
       "      <td>1998</td>\n",
       "      <td>Quake II</td>\n",
       "      <td>36600.00</td>\n",
       "      <td>13</td>\n",
       "      <td>2</td>\n",
       "    </tr>\n",
       "    <tr>\n",
       "      <th>...</th>\n",
       "      <td>...</td>\n",
       "      <td>...</td>\n",
       "      <td>...</td>\n",
       "      <td>...</td>\n",
       "      <td>...</td>\n",
       "    </tr>\n",
       "    <tr>\n",
       "      <th>6837</th>\n",
       "      <td>2021</td>\n",
       "      <td>Mythgard</td>\n",
       "      <td>1000.00</td>\n",
       "      <td>4</td>\n",
       "      <td>1</td>\n",
       "    </tr>\n",
       "    <tr>\n",
       "      <th>6838</th>\n",
       "      <td>2021</td>\n",
       "      <td>osu!</td>\n",
       "      <td>780.00</td>\n",
       "      <td>16</td>\n",
       "      <td>1</td>\n",
       "    </tr>\n",
       "    <tr>\n",
       "      <th>6839</th>\n",
       "      <td>2021</td>\n",
       "      <td>Xonotic</td>\n",
       "      <td>746.71</td>\n",
       "      <td>8</td>\n",
       "      <td>1</td>\n",
       "    </tr>\n",
       "    <tr>\n",
       "      <th>6840</th>\n",
       "      <td>2021</td>\n",
       "      <td>Diabotical</td>\n",
       "      <td>370.73</td>\n",
       "      <td>6</td>\n",
       "      <td>5</td>\n",
       "    </tr>\n",
       "    <tr>\n",
       "      <th>6841</th>\n",
       "      <td>2021</td>\n",
       "      <td>Them's Fightin' Herds</td>\n",
       "      <td>45.15</td>\n",
       "      <td>3</td>\n",
       "      <td>2</td>\n",
       "    </tr>\n",
       "  </tbody>\n",
       "</table>\n",
       "<p>6661 rows × 5 columns</p>\n",
       "</div>"
      ],
      "text/plain": [
       "      Date                   Game  Earnings  Players  Tournaments\n",
       "0     1998             QuakeWorld  15000.00        8            1\n",
       "1     1998               Quake II  14600.00        4            1\n",
       "2     1998               Quake II  15000.00        5            1\n",
       "3     1998             QuakeWorld   6500.00        4            1\n",
       "4     1998               Quake II  36600.00       13            2\n",
       "...    ...                    ...       ...      ...          ...\n",
       "6837  2021               Mythgard   1000.00        4            1\n",
       "6838  2021                   osu!    780.00       16            1\n",
       "6839  2021                Xonotic    746.71        8            1\n",
       "6840  2021             Diabotical    370.73        6            5\n",
       "6841  2021  Them's Fightin' Herds     45.15        3            2\n",
       "\n",
       "[6661 rows x 5 columns]"
      ]
     },
     "execution_count": 5,
     "metadata": {},
     "output_type": "execute_result"
    }
   ],
   "source": [
    "df1['Date']= pd.to_datetime(df1['Date'])\n",
    "df1['Date'] = df1['Date'].dt.strftime('%Y')\n",
    "\n",
    "df1"
   ]
  },
  {
   "cell_type": "code",
   "execution_count": 6,
   "metadata": {},
   "outputs": [
    {
     "name": "stdout",
     "output_type": "stream",
     "text": [
      "<class 'pandas.core.frame.DataFrame'>\n",
      "Int64Index: 6661 entries, 0 to 6841\n",
      "Data columns (total 5 columns):\n",
      " #   Column       Non-Null Count  Dtype  \n",
      "---  ------       --------------  -----  \n",
      " 0   Date         6661 non-null   float64\n",
      " 1   Game         6661 non-null   object \n",
      " 2   Earnings     6661 non-null   float64\n",
      " 3   Players      6661 non-null   int64  \n",
      " 4   Tournaments  6661 non-null   float64\n",
      "dtypes: float64(3), int64(1), object(1)\n",
      "memory usage: 312.2+ KB\n"
     ]
    }
   ],
   "source": [
    "df1[['Date']] = df1[['Date']].astype(float)\n",
    "df1[['Tournaments']] = df1[['Tournaments']].astype(float)\n",
    "df1.info()"
   ]
  },
  {
   "cell_type": "code",
   "execution_count": 7,
   "metadata": {},
   "outputs": [
    {
     "data": {
      "text/html": [
       "<div>\n",
       "<style scoped>\n",
       "    .dataframe tbody tr th:only-of-type {\n",
       "        vertical-align: middle;\n",
       "    }\n",
       "\n",
       "    .dataframe tbody tr th {\n",
       "        vertical-align: top;\n",
       "    }\n",
       "\n",
       "    .dataframe thead th {\n",
       "        text-align: right;\n",
       "    }\n",
       "</style>\n",
       "<table border=\"1\" class=\"dataframe\">\n",
       "  <thead>\n",
       "    <tr style=\"text-align: right;\">\n",
       "      <th></th>\n",
       "      <th>Date</th>\n",
       "      <th>Game</th>\n",
       "      <th>Earnings</th>\n",
       "      <th>Players</th>\n",
       "      <th>Tournaments</th>\n",
       "      <th>Result</th>\n",
       "    </tr>\n",
       "  </thead>\n",
       "  <tbody>\n",
       "    <tr>\n",
       "      <th>0</th>\n",
       "      <td>1998.0</td>\n",
       "      <td>QuakeWorld</td>\n",
       "      <td>15000.00</td>\n",
       "      <td>8</td>\n",
       "      <td>1.0</td>\n",
       "      <td>15000.000</td>\n",
       "    </tr>\n",
       "    <tr>\n",
       "      <th>1</th>\n",
       "      <td>1998.0</td>\n",
       "      <td>Quake II</td>\n",
       "      <td>14600.00</td>\n",
       "      <td>4</td>\n",
       "      <td>1.0</td>\n",
       "      <td>14600.000</td>\n",
       "    </tr>\n",
       "    <tr>\n",
       "      <th>2</th>\n",
       "      <td>1998.0</td>\n",
       "      <td>Quake II</td>\n",
       "      <td>15000.00</td>\n",
       "      <td>5</td>\n",
       "      <td>1.0</td>\n",
       "      <td>15000.000</td>\n",
       "    </tr>\n",
       "    <tr>\n",
       "      <th>3</th>\n",
       "      <td>1998.0</td>\n",
       "      <td>QuakeWorld</td>\n",
       "      <td>6500.00</td>\n",
       "      <td>4</td>\n",
       "      <td>1.0</td>\n",
       "      <td>6500.000</td>\n",
       "    </tr>\n",
       "    <tr>\n",
       "      <th>4</th>\n",
       "      <td>1998.0</td>\n",
       "      <td>Quake II</td>\n",
       "      <td>36600.00</td>\n",
       "      <td>13</td>\n",
       "      <td>2.0</td>\n",
       "      <td>18300.000</td>\n",
       "    </tr>\n",
       "    <tr>\n",
       "      <th>...</th>\n",
       "      <td>...</td>\n",
       "      <td>...</td>\n",
       "      <td>...</td>\n",
       "      <td>...</td>\n",
       "      <td>...</td>\n",
       "      <td>...</td>\n",
       "    </tr>\n",
       "    <tr>\n",
       "      <th>6837</th>\n",
       "      <td>2021.0</td>\n",
       "      <td>Mythgard</td>\n",
       "      <td>1000.00</td>\n",
       "      <td>4</td>\n",
       "      <td>1.0</td>\n",
       "      <td>1000.000</td>\n",
       "    </tr>\n",
       "    <tr>\n",
       "      <th>6838</th>\n",
       "      <td>2021.0</td>\n",
       "      <td>osu!</td>\n",
       "      <td>780.00</td>\n",
       "      <td>16</td>\n",
       "      <td>1.0</td>\n",
       "      <td>780.000</td>\n",
       "    </tr>\n",
       "    <tr>\n",
       "      <th>6839</th>\n",
       "      <td>2021.0</td>\n",
       "      <td>Xonotic</td>\n",
       "      <td>746.71</td>\n",
       "      <td>8</td>\n",
       "      <td>1.0</td>\n",
       "      <td>746.710</td>\n",
       "    </tr>\n",
       "    <tr>\n",
       "      <th>6840</th>\n",
       "      <td>2021.0</td>\n",
       "      <td>Diabotical</td>\n",
       "      <td>370.73</td>\n",
       "      <td>6</td>\n",
       "      <td>5.0</td>\n",
       "      <td>74.146</td>\n",
       "    </tr>\n",
       "    <tr>\n",
       "      <th>6841</th>\n",
       "      <td>2021.0</td>\n",
       "      <td>Them's Fightin' Herds</td>\n",
       "      <td>45.15</td>\n",
       "      <td>3</td>\n",
       "      <td>2.0</td>\n",
       "      <td>22.575</td>\n",
       "    </tr>\n",
       "  </tbody>\n",
       "</table>\n",
       "<p>6661 rows × 6 columns</p>\n",
       "</div>"
      ],
      "text/plain": [
       "        Date                   Game  Earnings  Players  Tournaments     Result\n",
       "0     1998.0             QuakeWorld  15000.00        8          1.0  15000.000\n",
       "1     1998.0               Quake II  14600.00        4          1.0  14600.000\n",
       "2     1998.0               Quake II  15000.00        5          1.0  15000.000\n",
       "3     1998.0             QuakeWorld   6500.00        4          1.0   6500.000\n",
       "4     1998.0               Quake II  36600.00       13          2.0  18300.000\n",
       "...      ...                    ...       ...      ...          ...        ...\n",
       "6837  2021.0               Mythgard   1000.00        4          1.0   1000.000\n",
       "6838  2021.0                   osu!    780.00       16          1.0    780.000\n",
       "6839  2021.0                Xonotic    746.71        8          1.0    746.710\n",
       "6840  2021.0             Diabotical    370.73        6          5.0     74.146\n",
       "6841  2021.0  Them's Fightin' Herds     45.15        3          2.0     22.575\n",
       "\n",
       "[6661 rows x 6 columns]"
      ]
     },
     "execution_count": 7,
     "metadata": {},
     "output_type": "execute_result"
    }
   ],
   "source": [
    "df1['Result'] = df1['Earnings']/df1['Tournaments']\n",
    "df1\n",
    "#result is average earning per tournament"
   ]
  },
  {
   "cell_type": "code",
   "execution_count": 8,
   "metadata": {},
   "outputs": [],
   "source": [
    "# Year_Earnings=df1.groupby([\"Date\"])[\"Earnings\"].sum()\n",
    "# Year_Tournaments = df1.groupby([\"Date\"])[\"Tournaments\"].sum()\n",
    "# #df2.columns = ['Year', 'Total']\n",
    "# df2 = pd.DataFrame()\n",
    "# df2[\"Year\"]=pd.unique(df1['Date'])\n",
    "# df2[\"Total\"]=list(Year_Earnings/Year_Tournaments)"
   ]
  },
  {
   "cell_type": "code",
   "execution_count": 54,
   "metadata": {},
   "outputs": [
    {
     "data": {
      "text/html": [
       "<div>\n",
       "<style scoped>\n",
       "    .dataframe tbody tr th:only-of-type {\n",
       "        vertical-align: middle;\n",
       "    }\n",
       "\n",
       "    .dataframe tbody tr th {\n",
       "        vertical-align: top;\n",
       "    }\n",
       "\n",
       "    .dataframe thead th {\n",
       "        text-align: right;\n",
       "    }\n",
       "</style>\n",
       "<table border=\"1\" class=\"dataframe\">\n",
       "  <thead>\n",
       "    <tr style=\"text-align: right;\">\n",
       "      <th></th>\n",
       "      <th>Year</th>\n",
       "      <th>Total</th>\n",
       "      <th>Tournaments</th>\n",
       "      <th>Avgearnings</th>\n",
       "    </tr>\n",
       "  </thead>\n",
       "  <tbody>\n",
       "    <tr>\n",
       "      <th>0</th>\n",
       "      <td>1998.0</td>\n",
       "      <td>1.317000e+05</td>\n",
       "      <td>9.0</td>\n",
       "      <td>14633.333333</td>\n",
       "    </tr>\n",
       "    <tr>\n",
       "      <th>1</th>\n",
       "      <td>1999.0</td>\n",
       "      <td>2.751538e+05</td>\n",
       "      <td>16.0</td>\n",
       "      <td>17197.115000</td>\n",
       "    </tr>\n",
       "    <tr>\n",
       "      <th>2</th>\n",
       "      <td>2000.0</td>\n",
       "      <td>7.453075e+05</td>\n",
       "      <td>58.0</td>\n",
       "      <td>12850.129138</td>\n",
       "    </tr>\n",
       "    <tr>\n",
       "      <th>3</th>\n",
       "      <td>2001.0</td>\n",
       "      <td>8.937645e+05</td>\n",
       "      <td>59.0</td>\n",
       "      <td>15148.550169</td>\n",
       "    </tr>\n",
       "    <tr>\n",
       "      <th>4</th>\n",
       "      <td>2002.0</td>\n",
       "      <td>9.682196e+05</td>\n",
       "      <td>75.0</td>\n",
       "      <td>12909.594533</td>\n",
       "    </tr>\n",
       "    <tr>\n",
       "      <th>5</th>\n",
       "      <td>2003.0</td>\n",
       "      <td>1.777180e+06</td>\n",
       "      <td>171.0</td>\n",
       "      <td>10392.863509</td>\n",
       "    </tr>\n",
       "    <tr>\n",
       "      <th>6</th>\n",
       "      <td>2004.0</td>\n",
       "      <td>2.839501e+06</td>\n",
       "      <td>253.0</td>\n",
       "      <td>11223.322490</td>\n",
       "    </tr>\n",
       "    <tr>\n",
       "      <th>7</th>\n",
       "      <td>2005.0</td>\n",
       "      <td>4.307357e+06</td>\n",
       "      <td>317.0</td>\n",
       "      <td>13587.876782</td>\n",
       "    </tr>\n",
       "    <tr>\n",
       "      <th>8</th>\n",
       "      <td>2006.0</td>\n",
       "      <td>5.657330e+06</td>\n",
       "      <td>402.0</td>\n",
       "      <td>14072.961045</td>\n",
       "    </tr>\n",
       "    <tr>\n",
       "      <th>9</th>\n",
       "      <td>2007.0</td>\n",
       "      <td>7.450950e+06</td>\n",
       "      <td>498.0</td>\n",
       "      <td>14961.745984</td>\n",
       "    </tr>\n",
       "    <tr>\n",
       "      <th>10</th>\n",
       "      <td>2008.0</td>\n",
       "      <td>7.494602e+06</td>\n",
       "      <td>532.0</td>\n",
       "      <td>14087.596823</td>\n",
       "    </tr>\n",
       "    <tr>\n",
       "      <th>11</th>\n",
       "      <td>2009.0</td>\n",
       "      <td>4.130272e+06</td>\n",
       "      <td>651.0</td>\n",
       "      <td>6344.504409</td>\n",
       "    </tr>\n",
       "    <tr>\n",
       "      <th>12</th>\n",
       "      <td>2010.0</td>\n",
       "      <td>6.340448e+06</td>\n",
       "      <td>991.0</td>\n",
       "      <td>6398.030414</td>\n",
       "    </tr>\n",
       "    <tr>\n",
       "      <th>13</th>\n",
       "      <td>2011.0</td>\n",
       "      <td>1.055105e+07</td>\n",
       "      <td>1650.0</td>\n",
       "      <td>6394.574527</td>\n",
       "    </tr>\n",
       "    <tr>\n",
       "      <th>14</th>\n",
       "      <td>2012.0</td>\n",
       "      <td>1.418581e+07</td>\n",
       "      <td>1973.0</td>\n",
       "      <td>7189.971201</td>\n",
       "    </tr>\n",
       "    <tr>\n",
       "      <th>15</th>\n",
       "      <td>2013.0</td>\n",
       "      <td>2.226884e+07</td>\n",
       "      <td>2284.0</td>\n",
       "      <td>9749.930180</td>\n",
       "    </tr>\n",
       "    <tr>\n",
       "      <th>16</th>\n",
       "      <td>2014.0</td>\n",
       "      <td>3.762319e+07</td>\n",
       "      <td>3080.0</td>\n",
       "      <td>12215.322653</td>\n",
       "    </tr>\n",
       "    <tr>\n",
       "      <th>17</th>\n",
       "      <td>2015.0</td>\n",
       "      <td>6.718380e+07</td>\n",
       "      <td>5227.0</td>\n",
       "      <td>12853.223696</td>\n",
       "    </tr>\n",
       "    <tr>\n",
       "      <th>18</th>\n",
       "      <td>2016.0</td>\n",
       "      <td>9.814203e+07</td>\n",
       "      <td>4793.0</td>\n",
       "      <td>20476.117880</td>\n",
       "    </tr>\n",
       "    <tr>\n",
       "      <th>19</th>\n",
       "      <td>2017.0</td>\n",
       "      <td>1.166467e+08</td>\n",
       "      <td>4865.0</td>\n",
       "      <td>23976.712314</td>\n",
       "    </tr>\n",
       "    <tr>\n",
       "      <th>20</th>\n",
       "      <td>2018.0</td>\n",
       "      <td>1.656021e+08</td>\n",
       "      <td>4713.0</td>\n",
       "      <td>35137.291744</td>\n",
       "    </tr>\n",
       "    <tr>\n",
       "      <th>21</th>\n",
       "      <td>2019.0</td>\n",
       "      <td>2.374431e+08</td>\n",
       "      <td>5614.0</td>\n",
       "      <td>42294.811657</td>\n",
       "    </tr>\n",
       "    <tr>\n",
       "      <th>22</th>\n",
       "      <td>2020.0</td>\n",
       "      <td>1.201081e+08</td>\n",
       "      <td>4611.0</td>\n",
       "      <td>26048.173021</td>\n",
       "    </tr>\n",
       "    <tr>\n",
       "      <th>23</th>\n",
       "      <td>2021.0</td>\n",
       "      <td>6.489025e+07</td>\n",
       "      <td>1820.0</td>\n",
       "      <td>35653.981874</td>\n",
       "    </tr>\n",
       "  </tbody>\n",
       "</table>\n",
       "</div>"
      ],
      "text/plain": [
       "      Year         Total  Tournaments   Avgearnings\n",
       "0   1998.0  1.317000e+05          9.0  14633.333333\n",
       "1   1999.0  2.751538e+05         16.0  17197.115000\n",
       "2   2000.0  7.453075e+05         58.0  12850.129138\n",
       "3   2001.0  8.937645e+05         59.0  15148.550169\n",
       "4   2002.0  9.682196e+05         75.0  12909.594533\n",
       "5   2003.0  1.777180e+06        171.0  10392.863509\n",
       "6   2004.0  2.839501e+06        253.0  11223.322490\n",
       "7   2005.0  4.307357e+06        317.0  13587.876782\n",
       "8   2006.0  5.657330e+06        402.0  14072.961045\n",
       "9   2007.0  7.450950e+06        498.0  14961.745984\n",
       "10  2008.0  7.494602e+06        532.0  14087.596823\n",
       "11  2009.0  4.130272e+06        651.0   6344.504409\n",
       "12  2010.0  6.340448e+06        991.0   6398.030414\n",
       "13  2011.0  1.055105e+07       1650.0   6394.574527\n",
       "14  2012.0  1.418581e+07       1973.0   7189.971201\n",
       "15  2013.0  2.226884e+07       2284.0   9749.930180\n",
       "16  2014.0  3.762319e+07       3080.0  12215.322653\n",
       "17  2015.0  6.718380e+07       5227.0  12853.223696\n",
       "18  2016.0  9.814203e+07       4793.0  20476.117880\n",
       "19  2017.0  1.166467e+08       4865.0  23976.712314\n",
       "20  2018.0  1.656021e+08       4713.0  35137.291744\n",
       "21  2019.0  2.374431e+08       5614.0  42294.811657\n",
       "22  2020.0  1.201081e+08       4611.0  26048.173021\n",
       "23  2021.0  6.489025e+07       1820.0  35653.981874"
      ]
     },
     "execution_count": 54,
     "metadata": {},
     "output_type": "execute_result"
    }
   ],
   "source": [
    "x=df1.groupby([\"Date\"])[\"Earnings\"].sum()\n",
    "#df2.columns = ['Year', 'Total']\n",
    "df2 = pd.DataFrame()\n",
    "df2[\"Year\"]=pd.unique(df1['Date'])\n",
    "df2[\"Total\"]=list((df1.groupby([\"Date\"])[\"Earnings\"].sum()))\n",
    "df2[\"Tournaments\"]=list((df1.groupby([\"Date\"])[\"Tournaments\"].sum()))\n",
    "df2[\"Avgearnings\"]= df2[\"Total\"]/df2[\"Tournaments\"]\n",
    "df2"
   ]
  },
  {
   "cell_type": "code",
   "execution_count": 31,
   "metadata": {},
   "outputs": [],
   "source": [
    "#X = df1.Date.values.reshape(-1, 1)\n",
    "#y = df1.Result.values.reshape(-1, 1)\n",
    "\n",
    "#print(\"Shape: \", X.shape, y.shape)\n",
    "x=df2['Year']\n",
    "y=df2['Total']\n"
   ]
  },
  {
   "cell_type": "code",
   "execution_count": 32,
   "metadata": {},
   "outputs": [
    {
     "data": {
      "text/plain": [
       "<matplotlib.collections.PathCollection at 0x275a336af28>"
      ]
     },
     "execution_count": 32,
     "metadata": {},
     "output_type": "execute_result"
    },
    {
     "data": {
      "image/png": "[encoded data removed]",
      "text/plain": [
       "<Figure size 432x288 with 1 Axes>"
      ]
     },
     "metadata": {
      "needs_background": "light"
     },
     "output_type": "display_data"
    }
   ],
   "source": [
    "plt.scatter(x, y)"
   ]
  },
  {
   "cell_type": "code",
   "execution_count": 33,
   "metadata": {},
   "outputs": [
    {
     "name": "stdout",
     "output_type": "stream",
     "text": [
      "r-squared: 0.569876623744339\n"
     ]
    },
    {
     "data": {
      "image/png": "[encoded data removed]",
      "text/plain": [
       "<Figure size 720x360 with 1 Axes>"
      ]
     },
     "metadata": {
      "needs_background": "light"
     },
     "output_type": "display_data"
    }
   ],
   "source": [
    "slope, intercept, r_value, p_value, std_err = stats.linregress(x, y)\n",
    "print(\"r-squared:\", r_value**2)\n",
    "plt.figure(figsize=(10,5))\n",
    "plt.plot(x, y, 'o', label='original data')\n",
    "plt.plot(x, intercept + slope*x, 'r', label='fitted line')\n",
    "plt.legend()\n",
    "plt.show()"
   ]
  },
  {
   "cell_type": "code",
   "execution_count": 85,
   "metadata": {},
   "outputs": [],
   "source": [
    "x = df2.Year.values.reshape(-1, 1)\n",
    "y = df2.Total.values.reshape(-1, 1)\n",
    "y1 = df2.Tournaments.values.reshape(-1, 1)\n",
    "y2 = df2.Avgearnings.values.reshape(-1, 1)"
   ]
  },
  {
   "cell_type": "code",
   "execution_count": 86,
   "metadata": {},
   "outputs": [
    {
     "data": {
      "text/plain": [
       "LinearRegression()"
      ]
     },
     "execution_count": 86,
     "metadata": {},
     "output_type": "execute_result"
    }
   ],
   "source": [
    "model = LinearRegression()\n",
    "model.fit(x, y)"
   ]
  },
  {
   "cell_type": "code",
   "execution_count": 87,
   "metadata": {},
   "outputs": [
    {
     "name": "stdout",
     "output_type": "stream",
     "text": [
      "[[1998.]]\n",
      "[[2021.]]\n",
      "Weight coefficients:  [[6721792.21725652]]\n",
      "y-axis intercept:  [-1.34658724e+10]\n"
     ]
    }
   ],
   "source": [
    "x_min = np.array([[x.min()]])\n",
    "x_max = np.array([[x.max()]])\n",
    "print(x_min)\n",
    "print(x_max)\n",
    "print('Weight coefficients: ', model.coef_)\n",
    "print('y-axis intercept: ', model.intercept_)"
   ]
  },
  {
   "cell_type": "code",
   "execution_count": 88,
   "metadata": {},
   "outputs": [
    {
     "name": "stdout",
     "output_type": "stream",
     "text": [
      "[[-35731580.49886513]]\n",
      "[[1.1886964e+08]]\n",
      "131700.0\n",
      "237443072.63999993\n"
     ]
    }
   ],
   "source": [
    "y_min = model.predict(x_min)\n",
    "y_max = model.predict(x_max)\n",
    "print(y_min)\n",
    "print(y_max)\n",
    "y_min_actual=y.min()\n",
    "y_max_actual=y.max()\n",
    "print(y_min_actual)\n",
    "print(y_max_actual)"
   ]
  },
  {
   "cell_type": "code",
   "execution_count": 105,
   "metadata": {},
   "outputs": [
    {
     "name": "stdout",
     "output_type": "stream",
     "text": [
      "R-squared (R2 ): 0.57\n"
     ]
    }
   ],
   "source": [
    "from sklearn.metrics import mean_squared_error, r2_score\n",
    "predicted = model.predict(x)\n",
    "r2 =round(r2_score(y, predicted),2)\n",
    "\n",
    "print(f\"R-squared (R2 ): {r2}\")\n",
    "Trend=f\"R-squared (R2 ): {r2}\""
   ]
  },
  {
   "cell_type": "code",
   "execution_count": 106,
   "metadata": {},
   "outputs": [
    {
     "data": {
      "image/png": "[encoded data removed]",
      "text/plain": [
       "<Figure size 720x360 with 1 Axes>"
      ]
     },
     "metadata": {
      "needs_background": "light"
     },
     "output_type": "display_data"
    }
   ],
   "source": [
    "fig = plt.figure(figsize=(10,5))\n",
    "fig.suptitle('Year vs Total Earnings')\n",
    "plt.xlabel('Year')\n",
    "plt.ylabel('Earnings in USD (by Hundred million)')\n",
    "plt.scatter(x, y, c='blue',)\n",
    "plt.plot([x_min[0], x_max[0]], [y_min[0], y_max[0]], c='red',label=str(Trend))\n",
    "plt.legend()\n",
    "plt.show()\n"
   ]
  },
  {
   "cell_type": "code",
   "execution_count": 102,
   "metadata": {},
   "outputs": [
    {
     "name": "stdout",
     "output_type": "stream",
     "text": [
      "R-squared (R2 ): 0.7311209270238022\n"
     ]
    },
    {
     "data": {
      "text/plain": [
       "[<matplotlib.lines.Line2D at 0x275a4d206d8>]"
      ]
     },
     "execution_count": 102,
     "metadata": {},
     "output_type": "execute_result"
    },
    {
     "data": {
      "image/png": "[encoded data removed]",
      "text/plain": [
       "<Figure size 720x360 with 1 Axes>"
      ]
     },
     "metadata": {
      "needs_background": "light"
     },
     "output_type": "display_data"
    }
   ],
   "source": [
    "model1 = LinearRegression()\n",
    "model1.fit(x, y1)\n",
    "x_min = np.array([[x.min()]])\n",
    "x_max = np.array([[x.max()]])\n",
    "y_min1 = model1.predict(x_min)\n",
    "y_max1 = model1.predict(x_max)\n",
    "predicted = model1.predict(x)\n",
    "r2 = r2_score(y1, predicted)\n",
    "\n",
    "print(f\"R-squared (R2 ): {r2}\")\n",
    "fig = plt.figure(figsize=(10,5))\n",
    "fig.suptitle('Year vs Tournaments')\n",
    "plt.xlabel('Year')\n",
    "plt.ylabel('Tournaments')\n",
    "plt.scatter(x, y1, c='blue')\n",
    "plt.plot([x_min[0], x_max[0]], [y_min1[0], y_max1[0]], c='red')"
   ]
  },
  {
   "cell_type": "code",
   "execution_count": 98,
   "metadata": {},
   "outputs": [
    {
     "name": "stdout",
     "output_type": "stream",
     "text": [
      "R-squared (R2 ): 0.3225420543869597\n"
     ]
    },
    {
     "data": {
      "text/plain": [
       "[<matplotlib.lines.Line2D at 0x275a4bd5748>]"
      ]
     },
     "execution_count": 98,
     "metadata": {},
     "output_type": "execute_result"
    },
    {
     "data": {
      "image/png": "[encoded data removed]",
      "text/plain": [
       "<Figure size 720x360 with 1 Axes>"
      ]
     },
     "metadata": {
      "needs_background": "light"
     },
     "output_type": "display_data"
    }
   ],
   "source": [
    "model2 = LinearRegression()\n",
    "model2.fit(x, y2)\n",
    "x_min = np.array([[x.min()]])\n",
    "x_max = np.array([[x.max()]])\n",
    "y_min2 = model2.predict(x_min)\n",
    "y_max2 = model2.predict(x_max)\n",
    "predicted = model2.predict(x)\n",
    "r2 = r2_score(y2, predicted)\n",
    "\n",
    "print(f\"R-squared (R2 ): {r2}\")\n",
    "fig = plt.figure(figsize=(10,5))\n",
    "fig.suptitle('Year vs Earning per Tournament')\n",
    "plt.xlabel('Year')\n",
    "plt.ylabel('Earnings in USD')\n",
    "plt.scatter(x, y2, c='blue')\n",
    "plt.plot([x_min[0], x_max[0]], [y_min2[0], y_max2[0]], c='red')"
   ]
  },
  {
   "cell_type": "code",
   "execution_count": null,
   "metadata": {},
   "outputs": [],
   "source": []
  },
  {
   "cell_type": "code",
   "execution_count": 119,
   "metadata": {},
   "outputs": [
    {
     "name": "stdout",
     "output_type": "stream",
     "text": [
      "y = -2002817911.6 * x + 500009.9 * x^2 + 2005595114232.1\n"
     ]
    },
    {
     "data": {
      "image/png": "[encoded data removed]",
      "text/plain": [
       "<Figure size 720x360 with 1 Axes>"
      ]
     },
     "metadata": {
      "needs_background": "light"
     },
     "output_type": "display_data"
    }
   ],
   "source": [
    "\n",
    "def objective(x, a, b, c):\n",
    "\treturn a * x + b * x**2 + c\n",
    " \n",
    "\n",
    "\n",
    "x, y = df2['Year'], df2['Total']\n",
    "\n",
    "popt, _ = curve_fit(objective, x, y)\n",
    "\n",
    "a, b, c = popt\n",
    "print('y = %.1f * x + %.1f * x^2 + %.1f' % (a, b, c))\n",
    "\n",
    "\n",
    "\n",
    "x_line = arange(min(x), max(x), 1)\n",
    "\n",
    "y_line = objective(x_line, a, b, c)\n",
    "\n",
    "residuals = y- objective(x, *popt)\n",
    "ss_res = np.sum(residuals**2)\n",
    "ss_tot = np.sum((y-np.mean(y))**2)\n",
    "r_squared =round(1 - (ss_res / ss_tot),2)\n",
    "Trend=f\"R-squared: {r_squared}\"\n",
    "\n",
    "fig = plt.figure(figsize=(10,5))\n",
    "plt.scatter(x, y)\n",
    "fig.suptitle('Year vs Total Earnings')\n",
    "plt.xlabel('Year')\n",
    "plt.ylabel('Earnings in USD')\n",
    "\n",
    "plt.plot(x_line, y_line, '--', color='red',label=str(Trend))\n",
    "plt.legend()\n",
    "plt.show()"
   ]
  },
  {
   "cell_type": "code",
   "execution_count": 112,
   "metadata": {},
   "outputs": [],
   "source": [
    "x=df2['Year']\n",
    "y=df2['Total']\n",
    "#df2['Year'], df2['Total']"
   ]
  },
  {
   "cell_type": "code",
   "execution_count": 113,
   "metadata": {},
   "outputs": [
    {
     "data": {
      "text/plain": [
       "0.690024674665547"
      ]
     },
     "execution_count": 113,
     "metadata": {},
     "output_type": "execute_result"
    }
   ],
   "source": [
    "residuals = y- objective(x, *popt)\n",
    "ss_res = np.sum(residuals**2)\n",
    "ss_tot = np.sum((y-np.mean(y))**2)\n",
    "r_squared = 1 - (ss_res / ss_tot)\n",
    "r_squared"
   ]
  },
  {
   "cell_type": "code",
   "execution_count": null,
   "metadata": {},
   "outputs": [],
   "source": []
  }
 ],
 "metadata": {
  "kernelspec": {
   "display_name": "Python [conda env:.conda-pythondata] *",
   "language": "python",
   "name": "conda-env-.conda-pythondata-py"
  },
  "language_info": {
   "codemirror_mode": {
    "name": "ipython",
    "version": 3
   },
   "file_extension": ".py",
   "mimetype": "text/x-python",
   "name": "python",
   "nbconvert_exporter": "python",
   "pygments_lexer": "ipython3",
   "version": "3.6.10"
  }
 },
 "nbformat": 4,
 "nbformat_minor": 4
}
